{
 "cells": [
  {
   "cell_type": "code",
   "execution_count": 7,
   "metadata": {},
   "outputs": [
    {
     "name": "stdout",
     "output_type": "stream",
     "text": [
      "Defaulting to user installation because normal site-packages is not writeable\n",
      "Requirement already satisfied: langchain-pinecone in c:\\users\\prade\\appdata\\roaming\\python\\python311\\site-packages (0.2.0)\n",
      "Requirement already satisfied: langchain-openai in c:\\users\\prade\\appdata\\roaming\\python\\python311\\site-packages (0.2.2)\n",
      "Requirement already satisfied: langchain-text-splitters in c:\\users\\prade\\appdata\\roaming\\python\\python311\\site-packages (0.3.0)\n",
      "Requirement already satisfied: langchain in c:\\users\\prade\\appdata\\roaming\\python\\python311\\site-packages (0.3.3)\n",
      "Requirement already satisfied: pinecone[grpc] in c:\\users\\prade\\appdata\\roaming\\python\\python311\\site-packages (5.1.0)\n",
      "Requirement already satisfied: certifi>=2019.11.17 in c:\\users\\prade\\appdata\\roaming\\python\\python311\\site-packages (from pinecone[grpc]) (2024.8.30)\n",
      "Requirement already satisfied: googleapis-common-protos>=1.53.0 in c:\\users\\prade\\appdata\\roaming\\python\\python311\\site-packages (from pinecone[grpc]) (1.63.1)\n",
      "Requirement already satisfied: grpcio>=1.59.0 in c:\\users\\prade\\appdata\\roaming\\python\\python311\\site-packages (from pinecone[grpc]) (1.64.1)\n",
      "Requirement already satisfied: lz4>=3.1.3 in c:\\users\\prade\\appdata\\roaming\\python\\python311\\site-packages (from pinecone[grpc]) (4.3.3)\n",
      "Requirement already satisfied: pinecone-plugin-inference<2.0.0,>=1.0.3 in c:\\users\\prade\\appdata\\roaming\\python\\python311\\site-packages (from pinecone[grpc]) (1.0.3)\n",
      "Requirement already satisfied: pinecone-plugin-interface<0.0.8,>=0.0.7 in c:\\users\\prade\\appdata\\roaming\\python\\python311\\site-packages (from pinecone[grpc]) (0.0.7)\n",
      "Requirement already satisfied: protobuf<5.0,>=4.25 in c:\\users\\prade\\appdata\\roaming\\python\\python311\\site-packages (from pinecone[grpc]) (4.25.3)\n",
      "Requirement already satisfied: protoc-gen-openapiv2<0.0.2,>=0.0.1 in c:\\users\\prade\\appdata\\roaming\\python\\python311\\site-packages (from pinecone[grpc]) (0.0.1)\n",
      "Requirement already satisfied: tqdm>=4.64.1 in c:\\users\\prade\\appdata\\roaming\\python\\python311\\site-packages (from pinecone[grpc]) (4.66.4)\n",
      "Requirement already satisfied: typing-extensions>=3.7.4 in c:\\users\\prade\\appdata\\roaming\\python\\python311\\site-packages (from pinecone[grpc]) (4.12.1)\n",
      "Requirement already satisfied: urllib3>=1.26.0 in c:\\users\\prade\\appdata\\roaming\\python\\python311\\site-packages (from pinecone[grpc]) (2.2.3)\n",
      "Requirement already satisfied: aiohttp<3.10,>=3.9.5 in c:\\users\\prade\\appdata\\roaming\\python\\python311\\site-packages (from langchain-pinecone) (3.9.5)\n",
      "Requirement already satisfied: langchain-core<0.4,>=0.3 in c:\\users\\prade\\appdata\\roaming\\python\\python311\\site-packages (from langchain-pinecone) (0.3.10)\n",
      "Requirement already satisfied: numpy<2,>=1 in c:\\users\\prade\\appdata\\roaming\\python\\python311\\site-packages (from langchain-pinecone) (1.26.4)\n",
      "Requirement already satisfied: pinecone-client<6.0.0,>=5.0.0 in c:\\users\\prade\\appdata\\roaming\\python\\python311\\site-packages (from langchain-pinecone) (5.0.1)\n",
      "Requirement already satisfied: openai<2.0.0,>=1.40.0 in c:\\users\\prade\\appdata\\roaming\\python\\python311\\site-packages (from langchain-openai) (1.51.2)\n",
      "Requirement already satisfied: tiktoken<1,>=0.7 in c:\\users\\prade\\appdata\\roaming\\python\\python311\\site-packages (from langchain-openai) (0.7.0)\n",
      "Requirement already satisfied: PyYAML>=5.3 in c:\\users\\prade\\appdata\\roaming\\python\\python311\\site-packages (from langchain) (6.0.2)\n",
      "Requirement already satisfied: SQLAlchemy<3,>=1.4 in c:\\users\\prade\\appdata\\roaming\\python\\python311\\site-packages (from langchain) (1.4.52)\n",
      "Requirement already satisfied: langsmith<0.2.0,>=0.1.17 in c:\\users\\prade\\appdata\\roaming\\python\\python311\\site-packages (from langchain) (0.1.134)\n",
      "Requirement already satisfied: pydantic<3.0.0,>=2.7.4 in c:\\users\\prade\\appdata\\roaming\\python\\python311\\site-packages (from langchain) (2.9.0)\n",
      "Requirement already satisfied: requests<3,>=2 in c:\\users\\prade\\appdata\\roaming\\python\\python311\\site-packages (from langchain) (2.32.3)\n",
      "Requirement already satisfied: tenacity!=8.4.0,<9.0.0,>=8.1.0 in c:\\users\\prade\\appdata\\roaming\\python\\python311\\site-packages (from langchain) (8.5.0)\n",
      "Requirement already satisfied: aiosignal>=1.1.2 in c:\\users\\prade\\appdata\\roaming\\python\\python311\\site-packages (from aiohttp<3.10,>=3.9.5->langchain-pinecone) (1.3.1)\n",
      "Requirement already satisfied: attrs>=17.3.0 in c:\\users\\prade\\appdata\\roaming\\python\\python311\\site-packages (from aiohttp<3.10,>=3.9.5->langchain-pinecone) (24.2.0)\n",
      "Requirement already satisfied: frozenlist>=1.1.1 in c:\\users\\prade\\appdata\\roaming\\python\\python311\\site-packages (from aiohttp<3.10,>=3.9.5->langchain-pinecone) (1.4.1)\n",
      "Requirement already satisfied: multidict<7.0,>=4.5 in c:\\users\\prade\\appdata\\roaming\\python\\python311\\site-packages (from aiohttp<3.10,>=3.9.5->langchain-pinecone) (6.0.5)\n",
      "Requirement already satisfied: yarl<2.0,>=1.0 in c:\\users\\prade\\appdata\\roaming\\python\\python311\\site-packages (from aiohttp<3.10,>=3.9.5->langchain-pinecone) (1.9.11)\n",
      "Requirement already satisfied: jsonpatch<2.0,>=1.33 in c:\\users\\prade\\appdata\\roaming\\python\\python311\\site-packages (from langchain-core<0.4,>=0.3->langchain-pinecone) (1.33)\n",
      "Requirement already satisfied: packaging<25,>=23.2 in c:\\users\\prade\\appdata\\roaming\\python\\python311\\site-packages (from langchain-core<0.4,>=0.3->langchain-pinecone) (24.0)\n",
      "Requirement already satisfied: httpx<1,>=0.23.0 in c:\\users\\prade\\appdata\\roaming\\python\\python311\\site-packages (from langsmith<0.2.0,>=0.1.17->langchain) (0.27.0)\n",
      "Requirement already satisfied: orjson<4.0.0,>=3.9.14 in c:\\users\\prade\\appdata\\roaming\\python\\python311\\site-packages (from langsmith<0.2.0,>=0.1.17->langchain) (3.10.7)\n",
      "Requirement already satisfied: requests-toolbelt<2.0.0,>=1.0.0 in c:\\users\\prade\\appdata\\roaming\\python\\python311\\site-packages (from langsmith<0.2.0,>=0.1.17->langchain) (1.0.0)\n",
      "Requirement already satisfied: anyio<5,>=3.5.0 in c:\\users\\prade\\appdata\\roaming\\python\\python311\\site-packages (from openai<2.0.0,>=1.40.0->langchain-openai) (4.4.0)\n",
      "Requirement already satisfied: distro<2,>=1.7.0 in c:\\users\\prade\\appdata\\roaming\\python\\python311\\site-packages (from openai<2.0.0,>=1.40.0->langchain-openai) (1.9.0)\n",
      "Requirement already satisfied: jiter<1,>=0.4.0 in c:\\users\\prade\\appdata\\roaming\\python\\python311\\site-packages (from openai<2.0.0,>=1.40.0->langchain-openai) (0.6.1)\n",
      "Requirement already satisfied: sniffio in c:\\users\\prade\\appdata\\roaming\\python\\python311\\site-packages (from openai<2.0.0,>=1.40.0->langchain-openai) (1.3.1)\n",
      "Requirement already satisfied: annotated-types>=0.4.0 in c:\\users\\prade\\appdata\\roaming\\python\\python311\\site-packages (from pydantic<3.0.0,>=2.7.4->langchain) (0.7.0)\n",
      "Requirement already satisfied: pydantic-core==2.23.2 in c:\\users\\prade\\appdata\\roaming\\python\\python311\\site-packages (from pydantic<3.0.0,>=2.7.4->langchain) (2.23.2)\n",
      "Requirement already satisfied: tzdata in c:\\users\\prade\\appdata\\roaming\\python\\python311\\site-packages (from pydantic<3.0.0,>=2.7.4->langchain) (2024.1)\n",
      "Requirement already satisfied: charset-normalizer<4,>=2 in c:\\users\\prade\\appdata\\roaming\\python\\python311\\site-packages (from requests<3,>=2->langchain) (3.4.0)\n",
      "Requirement already satisfied: idna<4,>=2.5 in c:\\users\\prade\\appdata\\roaming\\python\\python311\\site-packages (from requests<3,>=2->langchain) (3.10)\n",
      "Requirement already satisfied: greenlet!=0.4.17 in c:\\users\\prade\\appdata\\roaming\\python\\python311\\site-packages (from SQLAlchemy<3,>=1.4->langchain) (3.0.3)\n",
      "Requirement already satisfied: regex>=2022.1.18 in c:\\users\\prade\\appdata\\roaming\\python\\python311\\site-packages (from tiktoken<1,>=0.7->langchain-openai) (2024.5.15)\n",
      "Requirement already satisfied: colorama in c:\\users\\prade\\appdata\\roaming\\python\\python311\\site-packages (from tqdm>=4.64.1->pinecone[grpc]) (0.4.6)\n",
      "Requirement already satisfied: httpcore==1.* in c:\\users\\prade\\appdata\\roaming\\python\\python311\\site-packages (from httpx<1,>=0.23.0->langsmith<0.2.0,>=0.1.17->langchain) (1.0.5)\n",
      "Requirement already satisfied: h11<0.15,>=0.13 in c:\\users\\prade\\appdata\\roaming\\python\\python311\\site-packages (from httpcore==1.*->httpx<1,>=0.23.0->langsmith<0.2.0,>=0.1.17->langchain) (0.14.0)\n",
      "Requirement already satisfied: jsonpointer>=1.9 in c:\\users\\prade\\appdata\\roaming\\python\\python311\\site-packages (from jsonpatch<2.0,>=1.33->langchain-core<0.4,>=0.3->langchain-pinecone) (3.0.0)\n"
     ]
    }
   ],
   "source": [
    "! pip install \"pinecone[grpc]\" \"langchain-pinecone\"  \"langchain-openai\" \"langchain-text-splitters\" \"langchain\""
   ]
  },
  {
   "cell_type": "code",
   "execution_count": 8,
   "metadata": {},
   "outputs": [
    {
     "data": {
      "text/plain": [
       "True"
      ]
     },
     "execution_count": 8,
     "metadata": {},
     "output_type": "execute_result"
    }
   ],
   "source": [
    "import os\n",
    "from dotenv import load_dotenv\n",
    "load_dotenv()"
   ]
  },
  {
   "cell_type": "code",
   "execution_count": 9,
   "metadata": {},
   "outputs": [],
   "source": [
    "os.environ[\"LANGCHAIN_TRACING_V2\"] = \"true\"\n",
    "from langchain_openai import ChatOpenAI\n",
    "llm = ChatOpenAI(model=\"gpt-3.5-turbo\")"
   ]
  },
  {
   "cell_type": "markdown",
   "metadata": {},
   "source": [
    "### setup"
   ]
  },
  {
   "cell_type": "code",
   "execution_count": null,
   "metadata": {},
   "outputs": [],
   "source": [
    "repo_name = \"AlexBlazee/AmazonProductSearch\"\n",
    "branch_name = \"main\""
   ]
  },
  {
   "cell_type": "code",
   "execution_count": null,
   "metadata": {},
   "outputs": [],
   "source": [
    "repo_name = \"ModelEarth/feed\"\n",
    "branch_name = \"main\""
   ]
  },
  {
   "cell_type": "code",
   "execution_count": 13,
   "metadata": {},
   "outputs": [],
   "source": [
    "from langchain_community.document_loaders import GithubFileLoader\n",
    "from pydantic import BaseModel\n",
    "def get_readme (repo_name , branch_name , github_token):\n",
    "    loader = GithubFileLoader(\n",
    "        repo= repo_name, # Mention the repo we need \n",
    "        branch = branch_name ,  # the branch name\n",
    "        access_token=github_token,\n",
    "        github_api_url=\"https://api.github.com\",\n",
    "        file_filter=lambda file_path: file_path.endswith(\"README.md\"), \n",
    "    )\n",
    "    documents = loader.load()\n",
    "    return documents\n",
    "\n",
    "import re\n",
    "\n",
    "def preprocess_text(text):\n",
    "    text = re.sub(r'<[^>]+>', '', text)     # remove HTML\n",
    "    text = re.sub(r'http\\S+|www\\S+|https\\S+', '', text, flags=re.MULTILINE)     # Remove URLs\n",
    "    text = re.sub(r'!\\[.*?\\]\\(.*?\\)', '', text) # Remove image references\n",
    "    text = re.sub(r'[^\\w\\s.?!#]', '', text) # Remove emoticons while preserving basic punctuation\n",
    "    text = re.sub(r'\\s+', ' ', text).strip()         # Remove extra whitespace\n",
    "    return text"
   ]
  },
  {
   "cell_type": "markdown",
   "metadata": {},
   "source": [
    "### pinecone vector database setup"
   ]
  },
  {
   "cell_type": "code",
   "execution_count": 43,
   "metadata": {},
   "outputs": [],
   "source": [
    "from pinecone.grpc import PineconeGRPC as Pinecone\n",
    "from tqdm.autonotebook import tqdm\n",
    "from pinecone import ServerlessSpec\n",
    "api_key = os.environ.get('PINECONE_ACCESS_TOKEN') \n",
    "pc = Pinecone(api_key=api_key)\n",
    "\n",
    "index_name = \"github-rag-db\"\n",
    "\n",
    "if not pc.has_index(index_name):\n",
    "    pc.create_index(\n",
    "        name=index_name,\n",
    "        dimension=1536, \n",
    "        metric=\"dotproduct\", \n",
    "        spec=ServerlessSpec(\n",
    "            cloud=\"aws\", \n",
    "            region=\"us-east-1\"\n",
    "        ) \n",
    "    ) \n"
   ]
  },
  {
   "cell_type": "code",
   "execution_count": 44,
   "metadata": {},
   "outputs": [
    {
     "data": {
      "text/plain": [
       "{'dimension': 1536,\n",
       " 'index_fullness': 0.0,\n",
       " 'namespaces': {'': {'vector_count': 0}},\n",
       " 'total_vector_count': 0}"
      ]
     },
     "execution_count": 44,
     "metadata": {},
     "output_type": "execute_result"
    }
   ],
   "source": [
    "index = pc.Index(index_name)\n",
    "# view index stats\n",
    "index.describe_index_stats()"
   ]
  },
  {
   "cell_type": "markdown",
   "metadata": {},
   "source": [
    "### collection and embedding into vector store"
   ]
  },
  {
   "cell_type": "code",
   "execution_count": 61,
   "metadata": {},
   "outputs": [],
   "source": [
    "from langchain.document_loaders import TextLoader\n",
    "from langchain.document_loaders.web_base import WebBaseLoader\n",
    "from langchain_text_splitters import RecursiveCharacterTextSplitter\n",
    "\n",
    "# Use WebBaseLoader instead of TextLoader to load content from a URL\n",
    "loader = WebBaseLoader(\"https://raw.githubusercontent.com/ModelEarth/feed/main/README.md\")\n",
    "documents = loader.load()\n",
    "\n",
    "text_splitter = RecursiveCharacterTextSplitter(chunk_size=1000, chunk_overlap=200)\n",
    "docs = text_splitter.split_documents(documents)\n",
    "for doc in docs:\n",
    "    url = doc.metadata['source']\n",
    "    parts = url.split('/')\n",
    "    doc.metadata = {'source': url , 'owner': parts[3] ,'repo': parts[4] , 'branch': parts[5], 'filename': '/'.join(parts[6:])}\n",
    "# preprocessed_text = preprocess_text(documents[0].page_content)"
   ]
  },
  {
   "cell_type": "code",
   "execution_count": 62,
   "metadata": {},
   "outputs": [
    {
     "data": {
      "text/plain": [
       "[Document(metadata={'source': 'https://raw.githubusercontent.com/ModelEarth/feed/main/README.md', 'owner': 'ModelEarth', 'repo': 'feed', 'branch': 'main', 'filename': 'README.md'}, page_content='Feed Player + Swiper - For Images, Video\\xa0and\\xa0Text\\n\\n\\nWelcome to our Feed-Player React Project! This project provides a modern and user-friendly interface for viewing a series of images and video pulled from RSS, JSON, CSV and YAML. The UI is built using Vite, ReactJS, HTML, CSS, and JavaScript. The Feed-Player is designed to be fully responsive and packed with a range of features to enhance your viewing experience with filmstrip navigation using [swiper](https://github.com/modelearth/swiper).\\n\\n\\n\\n[Check out the dist preview](dist/) of the Feed-Player project on model.earth.\\n\\n## Feed Samples\\n\\n[View Feeds](view) - The Feed Player is being designed to convert APIs, JSON and .CSV into video-like presentations.\\n[Bluesky RSS Feeds](view/#feed=bsky) - Click \"Turn on CORS passthrough\". \\xa0[About Bluesky RSS](https://bsky.app/profile/todex.bsky.social/post/3kj2xcufu5q2q).'),\n",
       " Document(metadata={'source': 'https://raw.githubusercontent.com/ModelEarth/feed/main/README.md', 'owner': 'ModelEarth', 'repo': 'feed', 'branch': 'main', 'filename': 'README.md'}, page_content=\"[JSON for video, image and feed links](src/Data/data.js) - Feed APIs are loaded from a [Google Sheet](https://docs.google.com/spreadsheets/d/1jQTlXWom-pXvyP9zuTcbdluyvpb43hu2h7anxhF5qlQ/edit?usp=sharing)\\n\\n## Team Projects\\n\\nPlace your name here if you're working on an update.\\n\\nDONE: Pulled image and video links from a Google Sheet by implementing the Content/ContextGoogle.jsx page which pulls from this [Google Sheet](https://docs.google.com/spreadsheets/d/1jQTlXWom-pXvyP9zuTcbdluyvpb43hu2h7anxhF5qlQ/edit?usp=sharing) - By Gary\\n\\nDONE: Add columns for Title and Description in the Google Sheet - Matt B\\n\\n1.) DONE: New swiper control and text that scrolls in player.  - Shreyas\\n\\n2.) TO DO: Show the progress bar for the feed images. Update the progress bar to include multiple clickable sections when there are sequences of images. We could tap Matt B. who worked with the progress bar previously.\"),\n",
       " Document(metadata={'source': 'https://raw.githubusercontent.com/ModelEarth/feed/main/README.md', 'owner': 'ModelEarth', 'repo': 'feed', 'branch': 'main', 'filename': 'README.md'}, page_content='6.) TO DO: Use Vite to add [Swiper Element](https://swiperjs.com/element) in our \"[swiper](https://github.com/modelearth/swiper)\" repo and provide a filmstrip based on the images in incoming feeds. Place in a \"swiper\" folder. See [Swiper Element Setup](https://www.freecodecamp.org/news/how-to-set-up-swiper-element-in-a-react-application/) and [Film-strip sample](https://www.sliderrevolution.com/templates/wordpress-media-gallery) - We\\'ll avoid showing multiple heros at the same time - Srinath\\n\\n7.) TO DO: Load images into the Feed Player from our [requests repo](../requests/) CSV prompt file.\\n\\n8a.) TO DO: Pull NASA feed into React Feed Player and show images. - Noopur : Done\\n\\n8b.) TO DO: In Javascript feed/view page, pull in multiple Bluesky RSS feed links by passing in a pipe | separated list of feed urls. Add loop when pipes found in the url value in both JQuery feed/view - Noopur : Done'),\n",
       " Document(metadata={'source': 'https://raw.githubusercontent.com/ModelEarth/feed/main/README.md', 'owner': 'ModelEarth', 'repo': 'feed', 'branch': 'main', 'filename': 'README.md'}, page_content='8c.) In React Feed Player, using [Feeds tab CSV pull from Google Sheet](https://docs.google.com/spreadsheets/d/e/2PACX-1vSxfv7lxikjrmro3EJYGE_134vm5HdDszZKt4uKswHhsNJ_-afSaG9RoA4oeNV656r4mTuG3wTu38pM/pub?gid=889452679&single=true&output=csv), split on the pipe in the React Feed Player. - Noopur\\n\\n9.) Pull the replies for each Bluesky post in the feed. Use the screen-grab technique that we use to grab images from news sites that are listed in the feed. Scrape the posts from the Bluesky website. Grab replies for the top 3 posts. If the process doesn\\'t work, leave the attempt commented out. - Noopur\\n\\n10.) List of feeds on right of player with links to /feed/view/#feed= - Kalyan\\n\\n### Building Transparency\\n\\n11.) TO DO: Update javascript in this Building Transparency [template page](/io/template/feed) to allow an API token to be pasted into the \"Your API Key\" field.'),\n",
       " Document(metadata={'source': 'https://raw.githubusercontent.com/ModelEarth/feed/main/README.md', 'owner': 'ModelEarth', 'repo': 'feed', 'branch': 'main', 'filename': 'README.md'}, page_content='### Building Transparency\\n\\n11.) TO DO: Update javascript in this Building Transparency [template page](/io/template/feed) to allow an API token to be pasted into the \"Your API Key\" field.\\n\\n12.) TO DO: Create a Python process using Github Actions that automatically pulls a new Building Transparency API token every 24 hours. See our existing Python for sample of refreshing the API using a username (email) and password.\\n\\n13.) Supabase integration - Add a process for saving posts, links and comments related to feed items in Supabase within the [Earthscape NextJS repo](../earthscape/app). Save the ids of the RSS feed item hierarchy from BlueSky and relate it to threaded replies.\\n\\n\\n1.) TO DO: Update the Yarn Build to make the player an embeddable widget. Here\\'s possible setup info in ChatGPT.'),\n",
       " Document(metadata={'source': 'https://raw.githubusercontent.com/ModelEarth/feed/main/README.md', 'owner': 'ModelEarth', 'repo': 'feed', 'branch': 'main', 'filename': 'README.md'}, page_content=\"1.) TO DO: Update the Yarn Build to make the player an embeddable widget. Here's possible setup info in ChatGPT.\\n\\nIn the existing code, we tried to automate copying the index-xxxxxxxx.js and index-xxxxxxxx.css files to feedplayer.js and feedplayer.css within [dist/assets](https://github.com/ModelEarth/feed/tree/main/dist/assets).  We replaced vite.config.js with vite.config-upcoming.js, but it's not working yet (the copy might run before the build completes).  Once generating a consistant .js and .css file name, edit feed/intro.html to use feedplayer.js and feedplayer.css (or whatever .js file name is standard for a Vite widget).  Also adjust so the widget can be played on the main feed/index.html page. Marco shared a link to [How to copy images in DIST folder from assets in Vite js](https://stackoverflow.com/questions/78076268/how-to-copy-images-in-dist-folder-from-assets-in-vite-js)\\n\\n\\n\\n## Features\"),\n",
       " Document(metadata={'source': 'https://raw.githubusercontent.com/ModelEarth/feed/main/README.md', 'owner': 'ModelEarth', 'repo': 'feed', 'branch': 'main', 'filename': 'README.md'}, page_content=\"## Features\\n\\n► \\xa0 Play/Pause: Easily start and pause the playback with a single click.  \\n■ \\xa0 Stop: Stop the feed playback and reset it to the beginning.  \\n🔊 \\xa0 Volume Control: Adjust the volume level to your preference by increasing or decreasing the volume.  \\n🔇 \\xa0 Mute: Quickly mute or unmute the feed's audio with the mute button.  \\n⛲ \\xa0 Full-Screen: Enjoy your videos in full-screen mode for an immersive viewing experience.  \\n⏲ \\xa0 Remaining Time: The feed player will display the remaining time of the current feed.  \\n▶ \\xa0Navigation: Seamlessly navigate to the next or previous item in the playlist.  \\n📺 \\xa0 Play by URL: Paste a feed URL to play any valid feed format directly from the web. (Coming soon)\\n\\n## New UI and Controls\\n\\nThe Feed-Player interface that is both visually appealing and intuitive to use. The controls have been thoughtfully designed by to provide easy access to the various functionalities while keeping the user experience smooth and engaging.\\n\\n## Getting Started\"),\n",
       " Document(metadata={'source': 'https://raw.githubusercontent.com/ModelEarth/feed/main/README.md', 'owner': 'ModelEarth', 'repo': 'feed', 'branch': 'main', 'filename': 'README.md'}, page_content='## Getting Started\\n\\nTo contribute, fork our [four primary repos](https://github.com/ModelEarth?tab=repositories) and clone into your webroot:\\n\\n      git clone https://github.com/[your account]/localsite.git\\n      git clone https://github.com/[your account]/feed.git\\n      git clone https://github.com/[your account]/swiper.git\\n      git clone https://github.com/[your account]/home.git\\n\\n### Folders in your website root\\n\\n```ini\\nwebsite\\n├─ home\\n├─ localsite\\n├─ swiper\\n└─ feed\\n   ├─ README.md\\n   ├─ dist\\n   ├─ src\\n   ├─ view\\n   ├─ package.json\\n   ├─ vite.config.js\\n   └─ .gitignore\\n```\\n\\n### Start a web server in your webroot\\n\\n```\\npython -m http.server 8887\\n```\\n\\n### The primary FeedPlayer pages will be visible here:\\n\\n[Feed Player - localhost:8887/feed](http://localhost:8887/feed/)\\n[Feed View - localhost:8887/feed/view](http://localhost:8887/feed/view/)\\n\\n## Edit and build the \"feed\" project locally\\n\\n### 1. Navigate into the feed directory:\\n\\n```\\ncd feed\\n```'),\n",
       " Document(metadata={'source': 'https://raw.githubusercontent.com/ModelEarth/feed/main/README.md', 'owner': 'ModelEarth', 'repo': 'feed', 'branch': 'main', 'filename': 'README.md'}, page_content='## Edit and build the \"feed\" project locally\\n\\n### 1. Navigate into the feed directory:\\n\\n```\\ncd feed\\n```\\n\\nIf you don\\'t have yarn yet, install it with `npm install --global yarn`\\nYou can check if you have yarn with `yarn --version`\\n\\n### 2. Install the required dependencies:\\n\\nCheck if yarn is installed:\\n\\n```\\nyarn --version\\n```\\n\\nInstall yarn if you don\\'t have it yet:\\n\\n```\\nnpm install --global yarn\\n```\\n\\nInstall the required dependecies:\\n\\n```\\nyarn\\n```\\n\\nIf the package-lock.json file change significantly, revert and\\ntry this yarn install command:\\n\\n```\\nyarn install --immutable --immutable-cache --check-cache\\n```\\n\\nThe command above requires yarn 2 and prevents third-parties from\\xa0altering the checked-in packages before submitting them. [Source](https://stackoverflow.com/questions/58482655/what-is-the-closest-to-npm-ci-in-yarn).  \\nIt\\'s the equivalent to `npm ci` to avoid updating package-lock.json, which occurs with `npm install`.\\n\\n### 3. Start a development server (optional)\\n\\n\\n\\n```\\nyarn dev\\n```'),\n",
       " Document(metadata={'source': 'https://raw.githubusercontent.com/ModelEarth/feed/main/README.md', 'owner': 'ModelEarth', 'repo': 'feed', 'branch': 'main', 'filename': 'README.md'}, page_content='### 3. Start a development server (optional)\\n\\n\\n\\n```\\nyarn dev\\n```\\n\\nOr you can skip \"yarn dev\" and view at [http://localhost:8887/feed/dist](http://localhost:8887/feed/dist)\\n\\n\\n\\n### 4. Build the app to the dist folder\\n\\n```\\nyarn build\\n```\\n\\nView at: [http://localhost:8887/feed](http://localhost:8887/feed/) and [http://localhost:8887/feed/dist](http://localhost:8887/feed/dist)\\n\\nAfter building, you may need to manually edit the index-xxxx.js and index-xxxx.css links in intro.html.\\n\\n## Deploy for Review using Github Pages\\n\\nDeploy to your fork on GitHub and turn on GitHub Pages for localsite and feed.\\n\\nYour updates can now be reviewed at:\\n\\nhttps://[your account].github.io/feed  \\nhttps://[your account].github.io/feed/dist\\n\\n## About model.earth localsite navigation'),\n",
       " Document(metadata={'source': 'https://raw.githubusercontent.com/ModelEarth/feed/main/README.md', 'owner': 'ModelEarth', 'repo': 'feed', 'branch': 'main', 'filename': 'README.md'}, page_content=\"Your updates can now be reviewed at:\\n\\nhttps://[your account].github.io/feed  \\nhttps://[your account].github.io/feed/dist\\n\\n## About model.earth localsite navigation\\n\\nWe included [localsite navigation](https://model.earth/localsite/) using the following two lines. It's non-relative so changes to the base path won't break the nav. [Source](https://model.earth/localsite/start/).\\nAnother option would be to add localsite as a [submodule](https://model.earth/localsite/start/submodules) or add the localsite github path to the package.json file.\\n\\n      \\n\\n\\n## Technologies Used\\n\\n- ReactJS: Building the user interface and managing component-based architecture.\\n- Vite: Fast and lightweight frontend tooling for development.\\n- HTML: Structuring the content and layout of the video player.\\n- CSS and SCSS: Styling the UI components and ensuring responsiveness.\\n- JavaScript: Adding interactivity and logic to the video player functionality.\"),\n",
       " Document(metadata={'source': 'https://raw.githubusercontent.com/ModelEarth/feed/main/README.md', 'owner': 'ModelEarth', 'repo': 'feed', 'branch': 'main', 'filename': 'README.md'}, page_content='Vite is preferable to Create React App (CRA) because Vite does not rebuild the whole app whenever changes are made. It splits the app into two categories: dependencies and source code. Dependencies do not change often during the development process, so they are not rebuilt each time thanks to Vite.\\n\\n## Contributions\\n\\nContributions to the [Feed-Player Github Repo](https://github.com/modelearth/feed/) are welcome! If you have any improvements, bug fixes, or additional features in mind, feel free to fork this repository, make your changes, and submit a pull request.\\n\\n## License\\n\\nThis project is licensed under the [MIT License](https://github.com/ModelEarth/feed/blob/main/LICENSE),  \\nwhich means you are free to use, modify, and distribute the code as you see fit.\\n\\n---\\n\\nWe hope you enjoy using the Feed-Player!'),\n",
       " Document(metadata={'source': 'https://raw.githubusercontent.com/ModelEarth/feed/main/README.md', 'owner': 'ModelEarth', 'repo': 'feed', 'branch': 'main', 'filename': 'README.md'}, page_content='---\\n\\nWe hope you enjoy using the Feed-Player!\\n\\nIf you have any questions, requests or feedback, please post an issue in our\\n[Feed Player repo](http://github.com/modelearth/feed) or the parent [Video Player repo](https://github.com/sahilatahar/Video-Player).\\n\\nHappy feed viewing! 🎥🍿')]"
      ]
     },
     "execution_count": 62,
     "metadata": {},
     "output_type": "execute_result"
    }
   ],
   "source": [
    "docs"
   ]
  },
  {
   "cell_type": "code",
   "execution_count": 63,
   "metadata": {},
   "outputs": [
    {
     "data": {
      "text/plain": [
       "['0a24f29e-ab4d-4150-8315-0a6c8c6afbf3',\n",
       " '44b32ab9-3ffb-4b28-8f3a-aedd36e8dd2d',\n",
       " '99090e03-30ad-4e08-aa69-dd5a742a2b4d',\n",
       " '138f66c2-dfb6-4b7e-abf0-fae51b244ca7',\n",
       " '8f9b83a8-9659-42f9-b11b-43ae33b9cd12',\n",
       " 'b24f68f5-4eb9-4d08-a56c-85cf37d29b65',\n",
       " '8d9c0409-08a4-4482-a45d-4be33be5c888',\n",
       " '7608a009-ea24-4686-8da8-db660467fbe8',\n",
       " '50ebb998-74f9-455e-97e9-c25de2f6e493',\n",
       " '2e4d1e8b-2b26-41da-b77c-879474517fe6',\n",
       " '2fddcd2b-6856-4867-9e29-3a5c164bf218',\n",
       " '5e5cee6c-54d1-4197-93e2-bba002f1cc0f',\n",
       " '55454303-4862-4165-8c14-a829bf06228b']"
      ]
     },
     "execution_count": 63,
     "metadata": {},
     "output_type": "execute_result"
    }
   ],
   "source": [
    "from langchain_pinecone import PineconeVectorStore\n",
    "from langchain_openai import OpenAIEmbeddings\n",
    "\n",
    "embeddings = OpenAIEmbeddings(model = \"text-embedding-3-small\" , api_key= os.environ.get('OPENAI_API_KEY'))\n",
    "vectorstore = PineconeVectorStore(index_name=index_name, embedding=embeddings , pinecone_api_key= os.environ.get('PINECONE_ACCESS_TOKEN'))\n",
    "vectorstore.add_documents(docs)"
   ]
  },
  {
   "cell_type": "code",
   "execution_count": 52,
   "metadata": {},
   "outputs": [
    {
     "data": {
      "text/plain": [
       "[Document(id='be1e0300-d681-484d-a6a1-c00777eda937', metadata={'branch': 'main', 'filename': 'README.md', 'owner': 'ModelEarth', 'repo': 'feed', 'source': 'https://raw.githubusercontent.com/ModelEarth/feed/main/README.md'}, page_content='Vite is preferable to Create React App (CRA) because Vite does not rebuild the whole app whenever changes are made. It splits the app into two categories: dependencies and source code. Dependencies do not change often during the development process, so they are not rebuilt each time thanks to Vite.\\n\\n## Contributions\\n\\nContributions to the [Feed-Player Github Repo](https://github.com/modelearth/feed/) are welcome! If you have any improvements, bug fixes, or additional features in mind, feel free to fork this repository, make your changes, and submit a pull request.\\n\\n## License\\n\\nThis project is licensed under the [MIT License](https://github.com/ModelEarth/feed/blob/main/LICENSE),  \\nwhich means you are free to use, modify, and distribute the code as you see fit.\\n\\n---\\n\\nWe hope you enjoy using the Feed-Player!'),\n",
       " Document(id='f5a561d7-9f89-4421-bc92-3320ba17ae4d', metadata={'branch': 'main', 'filename': 'README.md', 'owner': 'ModelEarth', 'repo': 'feed', 'source': 'https://raw.githubusercontent.com/ModelEarth/feed/main/README.md'}, page_content='### Building Transparency\\n\\n11.) TO DO: Update javascript in this Building Transparency [template page](/io/template/feed) to allow an API token to be pasted into the \"Your API Key\" field.\\n\\n12.) TO DO: Create a Python process using Github Actions that automatically pulls a new Building Transparency API token every 24 hours. See our existing Python for sample of refreshing the API using a username (email) and password.\\n\\n13.) Supabase integration - Add a process for saving posts, links and comments related to feed items in Supabase within the [Earthscape NextJS repo](../earthscape/app). Save the ids of the RSS feed item hierarchy from BlueSky and relate it to threaded replies.\\n\\n\\n1.) TO DO: Update the Yarn Build to make the player an embeddable widget. Here\\'s possible setup info in ChatGPT.'),\n",
       " Document(id='0b9d5180-a5dc-4a7e-9b78-ae4d786ba9c2', metadata={'branch': 'main', 'filename': 'README.md', 'owner': 'ModelEarth', 'repo': 'feed', 'source': 'https://raw.githubusercontent.com/ModelEarth/feed/main/README.md'}, page_content='---\\n\\nWe hope you enjoy using the Feed-Player!\\n\\nIf you have any questions, requests or feedback, please post an issue in our\\n[Feed Player repo](http://github.com/modelearth/feed) or the parent [Video Player repo](https://github.com/sahilatahar/Video-Player).\\n\\nHappy feed viewing! 🎥🍿'),\n",
       " Document(id='b56fbe53-44d6-44e1-be5e-8110aa8ce890', metadata={'branch': 'main', 'filename': 'README.md', 'owner': 'ModelEarth', 'repo': 'feed', 'source': 'https://raw.githubusercontent.com/ModelEarth/feed/main/README.md'}, page_content=\"Your updates can now be reviewed at:\\n\\nhttps://[your account].github.io/feed  \\nhttps://[your account].github.io/feed/dist\\n\\n## About model.earth localsite navigation\\n\\nWe included [localsite navigation](https://model.earth/localsite/) using the following two lines. It's non-relative so changes to the base path won't break the nav. [Source](https://model.earth/localsite/start/).\\nAnother option would be to add localsite as a [submodule](https://model.earth/localsite/start/submodules) or add the localsite github path to the package.json file.\\n\\n      \\n\\n\\n## Technologies Used\\n\\n- ReactJS: Building the user interface and managing component-based architecture.\\n- Vite: Fast and lightweight frontend tooling for development.\\n- HTML: Structuring the content and layout of the video player.\\n- CSS and SCSS: Styling the UI components and ensuring responsiveness.\\n- JavaScript: Adding interactivity and logic to the video player functionality.\")]"
      ]
     },
     "execution_count": 52,
     "metadata": {},
     "output_type": "execute_result"
    }
   ],
   "source": [
    "query = \"under what license is the project under?\"\n",
    "vectorstore.similarity_search(query, filter={'repo': 'feed'})"
   ]
  },
  {
   "cell_type": "code",
   "execution_count": 65,
   "metadata": {},
   "outputs": [
    {
     "name": "stderr",
     "output_type": "stream",
     "text": [
      "C:\\Users\\prade\\AppData\\Roaming\\Python\\Python311\\site-packages\\langsmith\\client.py:354: LangSmithMissingAPIKeyWarning: API key must be provided when using hosted LangSmith API\n",
      "  warnings.warn(\n"
     ]
    }
   ],
   "source": [
    "from langchain.chains import RetrievalQA  \n",
    "from langchain_openai import ChatOpenAI\n",
    "from langchain import hub\n",
    "from langchain_core.runnables import RunnablePassthrough\n",
    "from langchain_core.output_parsers import StrOutputParser\n",
    "\n",
    "llm = ChatOpenAI(\n",
    "    openai_api_key=os.environ.get('OPENAI_API_KEY'),\n",
    "    model_name='gpt-3.5-turbo',\n",
    "    temperature=0.3\n",
    ")\n",
    "\n",
    "# qa = RetrievalQA.from_chain_type(\n",
    "#     llm=llm,\n",
    "#     chain_type=\"stuff\",\n",
    "#     retriever=vectorstore.as_retriever()\n",
    "# )\n",
    "\n",
    "retriever = vectorstore.as_retriever(filter={'repo': 'feed'} )\n",
    "prompt = hub.pull(\"rlm/rag-prompt\")\n",
    "def format_docs(docs):\n",
    "    return \"\\n\\n\".join(doc.page_content for doc in docs)\n",
    "\n",
    "\n",
    "rag_chain = (\n",
    "    {\"context\": retriever | format_docs, \"question\": RunnablePassthrough()}\n",
    "    | prompt\n",
    "    | llm\n",
    "    | StrOutputParser()\n",
    ")"
   ]
  },
  {
   "cell_type": "code",
   "execution_count": 66,
   "metadata": {},
   "outputs": [
    {
     "data": {
      "text/plain": [
       "'The purpose of the Feed-Player is to provide a modern and user-friendly interface for viewing a series of images and videos pulled from RSS, JSON, CSV, and YAML sources. It is designed to be fully responsive and packed with features to enhance the viewing experience, including filmstrip navigation using swiper. Users can convert APIs, JSON, and .CSV into video-like presentations with the Feed Player.'"
      ]
     },
     "execution_count": 66,
     "metadata": {},
     "output_type": "execute_result"
    }
   ],
   "source": [
    "query1 = \"\"\"what is the purpose of feed player\"\"\"\n",
    "rag_chain.invoke(query1)"
   ]
  },
  {
   "cell_type": "code",
   "execution_count": 60,
   "metadata": {},
   "outputs": [
    {
     "data": {
      "text/plain": [
       "'The features of the project include play/pause functionality, stop button, volume control, mute option, full-screen mode, remaining time display, navigation between playlist items, and the ability to play by URL. The new UI and controls are visually appealing and intuitive, designed for easy access to functionalities. The project involves team collaboration for updates such as implementing new controls and features like a progress bar and making the player an embeddable widget.'"
      ]
     },
     "execution_count": 60,
     "metadata": {},
     "output_type": "execute_result"
    }
   ],
   "source": [
    "query2 = \"\"\"what are the features of the project\"\"\"\n",
    "rag_chain.invoke(query2)"
   ]
  },
  {
   "cell_type": "code",
   "execution_count": 68,
   "metadata": {},
   "outputs": [
    {
     "data": {
      "text/plain": [
       "'The project is licensed under the MIT License, which allows users to freely use, modify, and distribute the code.'"
      ]
     },
     "execution_count": 68,
     "metadata": {},
     "output_type": "execute_result"
    }
   ],
   "source": [
    "query = \"under what license is the project?\"\n",
    "rag_chain.invoke(query)"
   ]
  },
  {
   "cell_type": "code",
   "execution_count": null,
   "metadata": {},
   "outputs": [],
   "source": [
    "# TODO : Sessions in chat implementation\n",
    "# TODO : multiple DB implementation , modularized code\n",
    "# TODO : multiple repo processing "
   ]
  }
 ],
 "metadata": {
  "kernelspec": {
   "display_name": "modelearth",
   "language": "python",
   "name": "python3"
  },
  "language_info": {
   "codemirror_mode": {
    "name": "ipython",
    "version": 3
   },
   "file_extension": ".py",
   "mimetype": "text/x-python",
   "name": "python",
   "nbconvert_exporter": "python",
   "pygments_lexer": "ipython3",
   "version": "3.11.10"
  }
 },
 "nbformat": 4,
 "nbformat_minor": 2
}
